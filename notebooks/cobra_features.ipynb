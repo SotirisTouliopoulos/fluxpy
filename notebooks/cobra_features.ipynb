{
 "cells": [
  {
   "cell_type": "markdown",
   "metadata": {},
   "source": [
    "# Investigating `cobrapy` features"
   ]
  },
  {
   "cell_type": "code",
   "execution_count": 1,
   "metadata": {},
   "outputs": [
    {
     "name": "stdout",
     "output_type": "stream",
     "text": [
      "Set parameter Username\n",
      "Academic license - for non-commercial use only - expires 2025-04-15\n"
     ]
    }
   ],
   "source": [
    "import cobra\n",
    "from cobra.io import load_model\n",
    "model = load_model(\"textbook\")"
   ]
  },
  {
   "cell_type": "markdown",
   "metadata": {},
   "source": [
    "What are the `primal_values`? \n",
    "\n",
    "If you ask them now, you will fail to get them:"
   ]
  },
  {
   "cell_type": "code",
   "execution_count": 2,
   "metadata": {},
   "outputs": [
    {
     "ename": "GurobiError",
     "evalue": "Unable to retrieve attribute 'X'",
     "output_type": "error",
     "traceback": [
      "\u001b[0;31m---------------------------------------------------------------------------\u001b[0m",
      "\u001b[0;31mGurobiError\u001b[0m                               Traceback (most recent call last)",
      "Cell \u001b[0;32mIn [2], line 1\u001b[0m\n\u001b[0;32m----> 1\u001b[0m \u001b[43mmodel\u001b[49m\u001b[38;5;241;43m.\u001b[39;49m\u001b[43msolver\u001b[49m\u001b[38;5;241;43m.\u001b[39;49m\u001b[43mprimal_values\u001b[49m\n",
      "File \u001b[0;32m~/.local/lib/python3.10/site-packages/optlang/interface.py:1282\u001b[0m, in \u001b[0;36mModel.primal_values\u001b[0;34m(self)\u001b[0m\n\u001b[1;32m   1272\u001b[0m \u001b[38;5;129m@property\u001b[39m\n\u001b[1;32m   1273\u001b[0m \u001b[38;5;28;01mdef\u001b[39;00m \u001b[38;5;21mprimal_values\u001b[39m(\u001b[38;5;28mself\u001b[39m):\n\u001b[1;32m   1274\u001b[0m     \u001b[38;5;124;03m\"\"\"The primal values of model variables.\u001b[39;00m\n\u001b[1;32m   1275\u001b[0m \n\u001b[1;32m   1276\u001b[0m \u001b[38;5;124;03m    The primal values are rounded to the bounds.\u001b[39;00m\n\u001b[0;32m   (...)\u001b[0m\n\u001b[1;32m   1279\u001b[0m \u001b[38;5;124;03m    collections.OrderedDict\u001b[39;00m\n\u001b[1;32m   1280\u001b[0m \u001b[38;5;124;03m    \"\"\"\u001b[39;00m\n\u001b[1;32m   1281\u001b[0m     \u001b[38;5;28;01mreturn\u001b[39;00m OrderedDict(\n\u001b[0;32m-> 1282\u001b[0m         \u001b[38;5;28mzip\u001b[39m(\u001b[38;5;28mself\u001b[39m\u001b[38;5;241m.\u001b[39m_get_variables_names(), \u001b[38;5;28;43mself\u001b[39;49m\u001b[38;5;241;43m.\u001b[39;49m\u001b[43m_get_primal_values\u001b[49m\u001b[43m(\u001b[49m\u001b[43m)\u001b[49m)\n\u001b[1;32m   1283\u001b[0m     )\n",
      "File \u001b[0;32m~/.local/lib/python3.10/site-packages/optlang/gurobi_interface.py:768\u001b[0m, in \u001b[0;36mModel._get_primal_values\u001b[0;34m(self)\u001b[0m\n\u001b[1;32m    761\u001b[0m \u001b[38;5;28;01mdef\u001b[39;00m \u001b[38;5;21m_get_primal_values\u001b[39m(\u001b[38;5;28mself\u001b[39m):\n\u001b[1;32m    762\u001b[0m     \u001b[38;5;124;03m\"\"\"The primal values of model variables.\u001b[39;00m\n\u001b[1;32m    763\u001b[0m \n\u001b[1;32m    764\u001b[0m \u001b[38;5;124;03m    Returns\u001b[39;00m\n\u001b[1;32m    765\u001b[0m \u001b[38;5;124;03m    -------\u001b[39;00m\n\u001b[1;32m    766\u001b[0m \u001b[38;5;124;03m    list\u001b[39;00m\n\u001b[1;32m    767\u001b[0m \u001b[38;5;124;03m    \"\"\"\u001b[39;00m\n\u001b[0;32m--> 768\u001b[0m     \u001b[38;5;28;01mreturn\u001b[39;00m \u001b[38;5;28;43mself\u001b[39;49m\u001b[38;5;241;43m.\u001b[39;49m\u001b[43mproblem\u001b[49m\u001b[38;5;241;43m.\u001b[39;49m\u001b[43mX\u001b[49m\n",
      "File \u001b[0;32msrc/gurobipy/model.pxi:357\u001b[0m, in \u001b[0;36mgurobipy.Model.__getattr__\u001b[0;34m()\u001b[0m\n",
      "File \u001b[0;32msrc/gurobipy/model.pxi:1892\u001b[0m, in \u001b[0;36mgurobipy.Model.getAttr\u001b[0;34m()\u001b[0m\n",
      "File \u001b[0;32msrc/gurobipy/attrutil.pxi:148\u001b[0m, in \u001b[0;36mgurobipy.__gettypedattrlist\u001b[0;34m()\u001b[0m\n",
      "\u001b[0;31mGurobiError\u001b[0m: Unable to retrieve attribute 'X'"
     ]
    }
   ],
   "source": [
    "model.solver.primal_values"
   ]
  },
  {
   "cell_type": "markdown",
   "metadata": {},
   "source": [
    "But if you first optimize, then you can access them: "
   ]
  },
  {
   "cell_type": "code",
   "execution_count": 3,
   "metadata": {},
   "outputs": [
    {
     "name": "stdout",
     "output_type": "stream",
     "text": [
      "OrderedDict([('ACALD', 0.0), ('ACALD_reverse_fda2b', 0.0), ('ACALDt', 0.0), ('ACALDt_reverse_858fa', 0.0), ('ACKr', 0.0), ('ACKr_reverse_b49c0', 0.0), ('ACONTa', 6.007249575350327), ('ACONTa_reverse_cad6d', 0.0), ('ACONTb', 6.007249575350327), ('ACONTb_reverse_e198a', 0.0), ('ACt2r', 0.0), ('ACt2r_reverse_64e05', 0.0), ('ADK1', 0.0), ('ADK1_reverse_a6f90', 0.0), ('AKGDH', 5.064375661482088), ('AKGDH_reverse_08bdc', 0.0), ('AKGt2r', 0.0), ('AKGt2r_reverse_5d500', 0.0), ('ALCD2x', 0.0), ('ALCD2x_reverse_5d107', 0.0), ('ATPM', 8.39), ('ATPM_reverse_5b752', 0.0), ('ATPS4r', 45.514009774517476), ('ATPS4r_reverse_64306', 0.0), ('Biomass_Ecoli_core', 0.8739215069684305), ('Biomass_Ecoli_core_reverse_2cdba', 0.0), ('CO2t', 0.0), ('CO2t_reverse_7c42f', 22.809833310204954), ('CS', 6.007249575350327), ('CS_reverse_8d7e9', 0.0), ('CYTBD', 43.5989853119975), ('CYTBD_reverse_611ba', 0.0), ('D_LACt2', 0.0), ('D_LACt2_reverse_d0dc8', 0.0), ('ENO', 14.716139568742829), ('ENO_reverse_40eea', 0.0), ('ETOHt2r', 0.0), ('ETOHt2r_reverse_b3d52', 0.0), ('EX_ac_e', 0.0), ('EX_ac_e_reverse_0be96', 0.0), ('EX_acald_e', 0.0), ('EX_acald_e_reverse_c096e', 0.0), ('EX_akg_e', 0.0), ('EX_akg_e_reverse_70d85', 0.0), ('EX_co2_e', 22.809833310204954), ('EX_co2_e_reverse_d0466', 0.0), ('EX_etoh_e', 0.0), ('EX_etoh_e_reverse_cc64f', 0.0), ('EX_for_e', 0.0), ('EX_for_e_reverse_23269', 0.0), ('EX_fru_e', 0.0), ('EX_fru_e_reverse_c3828', 0.0), ('EX_fum_e', 0.0), ('EX_fum_e_reverse_e3432', 0.0), ('EX_glc__D_e', 0.0), ('EX_glc__D_e_reverse_af641', 10.0), ('EX_gln__L_e', 0.0), ('EX_gln__L_e_reverse_6a1a1', 0.0), ('EX_glu__L_e', 0.0), ('EX_glu__L_e_reverse_42f6c', 0.0), ('EX_h_e', 17.530865429786573), ('EX_h_e_reverse_3e0c5', 0.0), ('EX_h2o_e', 29.17582713556579), ('EX_h2o_e_reverse_3ced4', 0.0), ('EX_lac__D_e', 0.0), ('EX_lac__D_e_reverse_f95b4', 0.0), ('EX_mal__L_e', 0.0), ('EX_mal__L_e_reverse_af154', 0.0), ('EX_nh4_e', 0.0), ('EX_nh4_e_reverse_f9cc6', 4.765319193197457), ('EX_o2_e', 0.0), ('EX_o2_e_reverse_efa94', 21.79949265599875), ('EX_pi_e', 0.0), ('EX_pi_e_reverse_1fb09', 3.2148950476847737), ('EX_pyr_e', 0.0), ('EX_pyr_e_reverse_1f6de', 0.0), ('EX_succ_e', 0.0), ('EX_succ_e_reverse_a9039', 0.0), ('FBA', 7.477381962160284), ('FBA_reverse_84806', 0.0), ('FBP', 0.0), ('FBP_reverse_bf2c9', 0.0), ('FORt2', 0.0), ('FORt2_reverse_89839', 0.0), ('FORti', 0.0), ('FORti_reverse_18c06', 0.0), ('FRD7', 0.0), ('FRD7_reverse_e0172', 0.0), ('FRUpts2', 0.0), ('FRUpts2_reverse_58d3a', 0.0), ('FUM', 5.064375661482088), ('FUM_reverse_d3642', 0.0), ('FUMt2_2', 0.0), ('FUMt2_2_reverse_7b4b6', 0.0), ('G6PDH2r', 4.95998494457466), ('G6PDH2r_reverse_19ddf', 0.0), ('GAPD', 16.0235261431676), ('GAPD_reverse_459c1', 0.0), ('GLCpts', 10.0), ('GLCpts_reverse_a52ae', 0.0), ('GLNS', 0.22346172933182767), ('GLNS_reverse_59581', 0.0), ('GLNabc', 0.0), ('GLNabc_reverse_1d82a', 0.0), ('GLUDy', 0.0), ('GLUDy_reverse_fa4e7', 4.54185746386563), ('GLUN', 0.0), ('GLUN_reverse_4ccdb', 0.0), ('GLUSy', 0.0), ('GLUSy_reverse_6a00f', 0.0), ('GLUt2r', 0.0), ('GLUt2r_reverse_3e88a', 0.0), ('GND', 4.95998494457466), ('GND_reverse_eec5c', 0.0), ('H2Ot', 0.0), ('H2Ot_reverse_aa560', 29.17582713556579), ('ICDHyr', 6.007249575350327), ('ICDHyr_reverse_7f84b', 0.0), ('ICL', 0.0), ('ICL_reverse_2f27e', 0.0), ('LDH_D', 0.0), ('LDH_D_reverse_f8507', 0.0), ('MALS', 0.0), ('MALS_reverse_d7382', 0.0), ('MALt2_2', 0.0), ('MALt2_2_reverse_a635f', 0.0), ('MDH', 5.064375661482088), ('MDH_reverse_ee52c', 0.0), ('ME1', 0.0), ('ME1_reverse_9736c', 0.0), ('ME2', 0.0), ('ME2_reverse_2b0a2', 0.0), ('NADH16', 38.534609650515414), ('NADH16_reverse_330a2', 0.0), ('NADTRHD', 0.0), ('NADTRHD_reverse_49725', 0.0), ('NH4t', 4.765319193197457), ('NH4t_reverse_551ee', 0.0), ('O2t', 21.79949265599875), ('O2t_reverse_4d957', 0.0), ('PDH', 9.282532599166611), ('PDH_reverse_ca160', 0.0), ('PFK', 7.477381962160284), ('PFK_reverse_d24a6', 0.0), ('PFL', 0.0), ('PFL_reverse_af9ec', 0.0), ('PGI', 4.860861146496812), ('PGI_reverse_27efc', 0.0), ('PGK', 0.0), ('PGK_reverse_02696', 16.0235261431676), ('PGL', 4.95998494457466), ('PGL_reverse_2bb6b', 0.0), ('PGM', 0.0), ('PGM_reverse_fc9af', 14.716139568742829), ('PIt2r', 3.2148950476847737), ('PIt2r_reverse_1cd61', 0.0), ('PPC', 2.504309470368735), ('PPC_reverse_e854a', 0.0), ('PPCK', 0.0), ('PPCK_reverse_2557d', 0.0), ('PPS', 0.0), ('PPS_reverse_1c319', 0.0), ('PTAr', 0.0), ('PTAr_reverse_fce15', 0.0), ('PYK', 1.7581774441067815), ('PYK_reverse_bc8ff', 0.0), ('PYRt2', 0.0), ('PYRt2_reverse_a6e24', 0.0), ('RPE', 2.6784818505075316), ('RPE_reverse_a1b04', 0.0), ('RPI', 0.0), ('RPI_reverse_853a1', 2.2815030940671277), ('SUCCt2_2', 0.0), ('SUCCt2_2_reverse_206ca', 0.0), ('SUCCt3', 0.0), ('SUCCt3_reverse_7d82a', 0.0), ('SUCDi', 5.064375661482088), ('SUCDi_reverse_480f4', 0.0), ('SUCOAS', 0.0), ('SUCOAS_reverse_22958', 5.064375661482088), ('TALA', 1.4969837572615676), ('TALA_reverse_adfda', 0.0), ('THD2', 0.0), ('THD2_reverse_f65dd', 0.0), ('TKT1', 1.4969837572615676), ('TKT1_reverse_a1021', 0.0), ('TKT2', 1.1814980932459642), ('TKT2_reverse_7ebc7', 0.0), ('TPI', 7.477381962160284), ('TPI_reverse_c2c3b', 0.0)])\n"
     ]
    }
   ],
   "source": [
    "model.optimize()\n",
    "print(model.solver.primal_values)"
   ]
  },
  {
   "cell_type": "markdown",
   "metadata": {},
   "source": [
    "The flux for a reaction variable is the difference of the primal values for the forward and reverse reaction variables.\n",
    "\n",
    "Therefore, \n",
    "```\n",
    "('ACALD', 0.0), ('ACALD_reverse_fda2b', 0.0)\n",
    "```"
   ]
  },
  {
   "cell_type": "code",
   "execution_count": null,
   "metadata": {},
   "outputs": [],
   "source": []
  },
  {
   "cell_type": "code",
   "execution_count": null,
   "metadata": {},
   "outputs": [],
   "source": []
  },
  {
   "cell_type": "markdown",
   "metadata": {},
   "source": []
  }
 ],
 "metadata": {
  "kernelspec": {
   "display_name": "Python 3",
   "language": "python",
   "name": "python3"
  },
  "language_info": {
   "codemirror_mode": {
    "name": "ipython",
    "version": 3
   },
   "file_extension": ".py",
   "mimetype": "text/x-python",
   "name": "python",
   "nbconvert_exporter": "python",
   "pygments_lexer": "ipython3",
   "version": "3.10.12"
  }
 },
 "nbformat": 4,
 "nbformat_minor": 2
}
